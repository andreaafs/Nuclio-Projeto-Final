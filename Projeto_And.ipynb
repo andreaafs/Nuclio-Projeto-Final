{
 "cells": [
  {
   "cell_type": "markdown",
   "metadata": {},
   "source": [
    "![Nuclio logo](https://nuclio.school/wp-content/uploads/2018/12/nucleoDS-newBlack.png)"
   ]
  },
  {
   "cell_type": "markdown",
   "metadata": {},
   "source": [
    "![logo](C:/Users/FH4G/Desktop/NDS/DCTP/Projeto final/Imagem/grafico.png)"
   ]
  },
  {
   "cell_type": "markdown",
   "metadata": {},
   "source": [
    "# JFK Flights - Delay prediction\n",
    "\n",
    "## Table of Contents\n",
    "\n",
    "* [A. Introduction](#introduction)\n",
    "* [B. Importing Libraries](#libraries)\n",
    "* [C. Importing data](#data)\n",
    "\n",
    "\n",
    "* [2. MLC2: Data understanding](#data_understanding)\n",
    "    * [2.1. MLC2.1.: Univariate data analysis](#univariate_data_analysis)\n",
    "        * [2.1.1. Dataset size](#dataset_size)\n",
    "        * [2.1.2. Direct visualization of the data](#direct_visualization)\n",
    "        * [2.1.3. Variable types](#variable_types)\n",
    "        * [2.1.4. Descriptive statistics](#descriptive_statistics)\n",
    "        * [2.1.5. Null values](#null_values)\n",
    "        * [2.1.6. Distribution of target](#target_distribution)\n",
    "        * [2.1.7-2.1.10. Variables distribution & relations with target](#variables_distribution)\n",
    "    * [2.2. MLC2.2.: Multivariate data analysis](#multivariate_data_analysis)"
   ]
  },
  {
   "cell_type": "markdown",
   "metadata": {},
   "source": [
    "## A. Introduction <a class=\"anchor\" id=\"introduction\"></a>"
   ]
  },
  {
   "cell_type": "markdown",
   "metadata": {},
   "source": [
    "## Tarefa 1: Analysis <a class=\"anchor\" id=\"Tarefa\"></a>"
   ]
  },
  {
   "cell_type": "markdown",
   "metadata": {},
   "source": [
    "## From: Michelle (Chief Digital Officer) \n",
    "## To: Nicole CC: Paul (Finance Director)\n",
    "\n",
    "Olá Nicole, \n",
    "\n",
    "Espero que você esteja se adaptando bem em sua nova função. Martin mencionou que você já foi capaz de acessar nossos bancos de dados. Eu estou feliz em ouvir isso!\n",
    "\n",
    "Desde que entrei na DSMarket, tenho vontade de analisar a fundo o panorama atual da empresa. Até agora estive observando as tendências globais de vendas, mas realmente gostaria de avaliar todos os ângulos do nosso atividade. Eu gostaria que você me ajudasse com isso. Agradeceríamos muito se você pudesse começar a olhar para o dados de NY, Boston e Filadélfia. \n",
    "\n",
    "A minha intuição diz que provavelmente temos alguns produtos que são não é mais tão popular, e é provável que os produtos mais populares variem entre as cidades, ou mesmo entre lojas (que também podem variar em preços). Nossas ações de marketing explorarão esses diferenças. Precisamos entender cada detalhe do negócio! Eu confio em você para isso.\n",
    "\n",
    "Você e Paul deveriam apresentar seus resultados ao conselho executivo. O que seria razoável data para agendar essa reunião? \n",
    "Muito obrigado Nicole!!\n"
   ]
  },
  {
   "cell_type": "markdown",
   "metadata": {},
   "source": [
    "## B. Impotando Bibliotecas  <a class=\"anchor\" id=\"introduction\"></a>"
   ]
  },
  {
   "cell_type": "code",
   "execution_count": 22,
   "metadata": {},
   "outputs": [
    {
     "name": "stdout",
     "output_type": "stream",
     "text": [
      "Collecting mysql-connector-python\n",
      "  Downloading mysql_connector_python-8.0.33-cp37-cp37m-win_amd64.whl.metadata (1.9 kB)\n",
      "Collecting protobuf<=3.20.3,>=3.11.0 (from mysql-connector-python)\n",
      "  Downloading protobuf-3.20.3-cp37-cp37m-win_amd64.whl.metadata (699 bytes)\n",
      "Downloading mysql_connector_python-8.0.33-cp37-cp37m-win_amd64.whl (9.6 MB)\n",
      "   ---------------------------------------- 9.6/9.6 MB 4.4 MB/s eta 0:00:00\n",
      "Downloading protobuf-3.20.3-cp37-cp37m-win_amd64.whl (905 kB)\n",
      "   --------------------------------------- 905.1/905.1 kB 59.7 MB/s eta 0:00:00\n",
      "Installing collected packages: protobuf, mysql-connector-python\n",
      "Successfully installed mysql-connector-python-8.0.33 protobuf-3.20.3\n"
     ]
    }
   ],
   "source": [
    "!pip install mysql-connector-python"
   ]
  },
  {
   "cell_type": "code",
   "execution_count": 25,
   "metadata": {},
   "outputs": [
    {
     "name": "stdout",
     "output_type": "stream",
     "text": [
      "Collecting country_converter\n",
      "  Downloading country_converter-1.2-py3-none-any.whl.metadata (24 kB)\n",
      "Requirement already satisfied: pandas>=1.0 in c:\\users\\fh4g\\anaconda3\\lib\\site-packages (from country_converter) (1.3.5)\n",
      "Requirement already satisfied: python-dateutil>=2.7.3 in c:\\users\\fh4g\\anaconda3\\lib\\site-packages (from pandas>=1.0->country_converter) (2.9.0.post0)\n",
      "Requirement already satisfied: pytz>=2017.3 in c:\\users\\fh4g\\anaconda3\\lib\\site-packages (from pandas>=1.0->country_converter) (2024.1)\n",
      "Requirement already satisfied: numpy>=1.17.3 in c:\\users\\fh4g\\anaconda3\\lib\\site-packages (from pandas>=1.0->country_converter) (1.21.6)\n",
      "Requirement already satisfied: six>=1.5 in c:\\users\\fh4g\\anaconda3\\lib\\site-packages (from python-dateutil>=2.7.3->pandas>=1.0->country_converter) (1.16.0)\n",
      "Downloading country_converter-1.2-py3-none-any.whl (45 kB)\n",
      "   ---------------------------------------- 46.0/46.0 kB 2.2 MB/s eta 0:00:00\n",
      "Installing collected packages: country_converter\n",
      "Successfully installed country_converter-1.2\n",
      "Requirement already satisfied: matplotlib in c:\\users\\fh4g\\anaconda3\\lib\\site-packages (3.5.1)\n",
      "Requirement already satisfied: cycler>=0.10 in c:\\users\\fh4g\\anaconda3\\lib\\site-packages (from matplotlib) (0.10.0)\n",
      "Requirement already satisfied: fonttools>=4.22.0 in c:\\users\\fh4g\\anaconda3\\lib\\site-packages (from matplotlib) (4.38.0)\n",
      "Requirement already satisfied: kiwisolver>=1.0.1 in c:\\users\\fh4g\\anaconda3\\lib\\site-packages (from matplotlib) (1.1.0)\n",
      "Requirement already satisfied: numpy>=1.17 in c:\\users\\fh4g\\anaconda3\\lib\\site-packages (from matplotlib) (1.21.6)\n",
      "Requirement already satisfied: packaging>=20.0 in c:\\users\\fh4g\\anaconda3\\lib\\site-packages (from matplotlib) (24.0)\n",
      "Requirement already satisfied: pillow>=6.2.0 in c:\\users\\fh4g\\anaconda3\\lib\\site-packages (from matplotlib) (7.0.0)\n",
      "Requirement already satisfied: pyparsing>=2.2.1 in c:\\users\\fh4g\\anaconda3\\lib\\site-packages (from matplotlib) (2.4.6)\n",
      "Requirement already satisfied: python-dateutil>=2.7 in c:\\users\\fh4g\\anaconda3\\lib\\site-packages (from matplotlib) (2.9.0.post0)\n",
      "Requirement already satisfied: six in c:\\users\\fh4g\\anaconda3\\lib\\site-packages (from cycler>=0.10->matplotlib) (1.16.0)\n",
      "Requirement already satisfied: setuptools in c:\\users\\fh4g\\anaconda3\\lib\\site-packages (from kiwisolver>=1.0.1->matplotlib) (68.0.0)\n",
      "Requirement already satisfied: seaborn in c:\\users\\fh4g\\anaconda3\\lib\\site-packages (0.11.2)\n",
      "Requirement already satisfied: numpy>=1.15 in c:\\users\\fh4g\\anaconda3\\lib\\site-packages (from seaborn) (1.21.6)\n",
      "Requirement already satisfied: scipy>=1.0 in c:\\users\\fh4g\\anaconda3\\lib\\site-packages (from seaborn) (1.7.3)\n",
      "Requirement already satisfied: pandas>=0.23 in c:\\users\\fh4g\\anaconda3\\lib\\site-packages (from seaborn) (1.3.5)\n",
      "Requirement already satisfied: matplotlib>=2.2 in c:\\users\\fh4g\\anaconda3\\lib\\site-packages (from seaborn) (3.5.1)\n",
      "Requirement already satisfied: cycler>=0.10 in c:\\users\\fh4g\\anaconda3\\lib\\site-packages (from matplotlib>=2.2->seaborn) (0.10.0)\n",
      "Requirement already satisfied: fonttools>=4.22.0 in c:\\users\\fh4g\\anaconda3\\lib\\site-packages (from matplotlib>=2.2->seaborn) (4.38.0)\n",
      "Requirement already satisfied: kiwisolver>=1.0.1 in c:\\users\\fh4g\\anaconda3\\lib\\site-packages (from matplotlib>=2.2->seaborn) (1.1.0)\n",
      "Requirement already satisfied: packaging>=20.0 in c:\\users\\fh4g\\anaconda3\\lib\\site-packages (from matplotlib>=2.2->seaborn) (24.0)\n",
      "Requirement already satisfied: pillow>=6.2.0 in c:\\users\\fh4g\\anaconda3\\lib\\site-packages (from matplotlib>=2.2->seaborn) (7.0.0)\n",
      "Requirement already satisfied: pyparsing>=2.2.1 in c:\\users\\fh4g\\anaconda3\\lib\\site-packages (from matplotlib>=2.2->seaborn) (2.4.6)\n",
      "Requirement already satisfied: python-dateutil>=2.7 in c:\\users\\fh4g\\anaconda3\\lib\\site-packages (from matplotlib>=2.2->seaborn) (2.9.0.post0)\n",
      "Requirement already satisfied: pytz>=2017.3 in c:\\users\\fh4g\\anaconda3\\lib\\site-packages (from pandas>=0.23->seaborn) (2024.1)\n",
      "Requirement already satisfied: six in c:\\users\\fh4g\\anaconda3\\lib\\site-packages (from cycler>=0.10->matplotlib>=2.2->seaborn) (1.16.0)\n",
      "Requirement already satisfied: setuptools in c:\\users\\fh4g\\anaconda3\\lib\\site-packages (from kiwisolver>=1.0.1->matplotlib>=2.2->seaborn) (68.0.0)\n",
      "Requirement already satisfied: scikit-learn in c:\\users\\fh4g\\anaconda3\\lib\\site-packages (1.0.2)\n",
      "Requirement already satisfied: numpy>=1.14.6 in c:\\users\\fh4g\\anaconda3\\lib\\site-packages (from scikit-learn) (1.21.6)\n",
      "Requirement already satisfied: scipy>=1.1.0 in c:\\users\\fh4g\\anaconda3\\lib\\site-packages (from scikit-learn) (1.7.3)\n",
      "Requirement already satisfied: joblib>=0.11 in c:\\users\\fh4g\\anaconda3\\lib\\site-packages (from scikit-learn) (1.0.1)\n",
      "Requirement already satisfied: threadpoolctl>=2.0.0 in c:\\users\\fh4g\\anaconda3\\lib\\site-packages (from scikit-learn) (3.1.0)\n"
     ]
    }
   ],
   "source": [
    "!pip install country_converter\n",
    "!pip install matplotlib\n",
    "!pip install seaborn\n",
    "!pip install scikit-learn"
   ]
  },
  {
   "cell_type": "code",
   "execution_count": 26,
   "metadata": {},
   "outputs": [],
   "source": [
    "from PIL import Image\n",
    "from IPython.display import display"
   ]
  },
  {
   "cell_type": "code",
   "execution_count": 27,
   "metadata": {},
   "outputs": [
    {
     "ename": "ModuleNotFoundError",
     "evalue": "No module named 'plotly'",
     "output_type": "error",
     "traceback": [
      "\u001b[1;31m---------------------------------------------------------------------------\u001b[0m",
      "\u001b[1;31mModuleNotFoundError\u001b[0m                       Traceback (most recent call last)",
      "\u001b[1;32m~\\AppData\\Local\\Temp\\ipykernel_32888\\1014792616.py\u001b[0m in \u001b[0;36m<module>\u001b[1;34m\u001b[0m\n\u001b[0;32m      6\u001b[0m \u001b[1;32mimport\u001b[0m \u001b[0mmatplotlib\u001b[0m\u001b[1;33m.\u001b[0m\u001b[0mpyplot\u001b[0m \u001b[1;32mas\u001b[0m \u001b[0mplt\u001b[0m\u001b[1;33m\u001b[0m\u001b[1;33m\u001b[0m\u001b[0m\n\u001b[0;32m      7\u001b[0m \u001b[1;32mimport\u001b[0m \u001b[0mseaborn\u001b[0m \u001b[1;32mas\u001b[0m \u001b[0msns\u001b[0m\u001b[1;33m\u001b[0m\u001b[1;33m\u001b[0m\u001b[0m\n\u001b[1;32m----> 8\u001b[1;33m \u001b[1;32mimport\u001b[0m \u001b[0mplotly\u001b[0m\u001b[1;33m.\u001b[0m\u001b[0mexpress\u001b[0m \u001b[1;32mas\u001b[0m \u001b[0mpx\u001b[0m\u001b[1;33m\u001b[0m\u001b[1;33m\u001b[0m\u001b[0m\n\u001b[0m\u001b[0;32m      9\u001b[0m \u001b[1;32mimport\u001b[0m \u001b[0mplotly\u001b[0m\u001b[1;33m.\u001b[0m\u001b[0mgraph_objects\u001b[0m \u001b[1;32mas\u001b[0m \u001b[0mgo\u001b[0m\u001b[1;33m\u001b[0m\u001b[1;33m\u001b[0m\u001b[0m\n\u001b[0;32m     10\u001b[0m \u001b[1;33m\u001b[0m\u001b[0m\n",
      "\u001b[1;31mModuleNotFoundError\u001b[0m: No module named 'plotly'"
     ]
    }
   ],
   "source": [
    "#Importação de pacotes\n",
    "import pandas as pd  # Series and DataFrames\n",
    "import numpy as np  # linear algebra\n",
    "import requests\n",
    "import matplotlib\n",
    "import matplotlib.pyplot as plt\n",
    "import seaborn as sns\n",
    "import plotly.express as px\n",
    "import plotly.graph_objects as go\n",
    "\n",
    "\n",
    "# nltk\n",
    "import nltk\n",
    "import ast\n",
    "import random\n",
    "\n",
    "from matplotlib import cm\n",
    "from plotly.subplots import make_subplots\n",
    "\n",
    "# visualization\n",
    "from wordcloud import WordCloud\n",
    "colors = ['#494BD3', '#E28AE2', '#F1F481', '#79DB80', '#DF5F5F',\n",
    "              '#69DADE', '#C2E37D', '#E26580', '#D39F49', '#B96FE3']\n",
    "from plotly.offline import init_notebook_mode, iplot\n",
    "\n",
    "# from matplotlib import pyplot as plt\n",
    "%matplotlib inline\n",
    "plt.style.use('ggplot')\n",
    "pd.set_option('display.max_rows', 500)\n",
    "pd.options.display.float_format = '{:,.2f}'.format\n"
   ]
  },
  {
   "cell_type": "code",
   "execution_count": 28,
   "metadata": {},
   "outputs": [],
   "source": [
    "from sklearn import preprocessing\n",
    "from sqlalchemy import create_engine, text\n",
    "from sqlalchemy.exc import SQLAlchemyError\n",
    "import pandas as pd"
   ]
  },
  {
   "cell_type": "code",
   "execution_count": 29,
   "metadata": {},
   "outputs": [
    {
     "name": "stdout",
     "output_type": "stream",
     "text": [
      "Installed version for scikit-learn: 1.0.2.\n"
     ]
    }
   ],
   "source": [
    "from sklearn import __version__ as sklearn_version\n",
    "print('Installed version for scikit-learn: {}.'.format(sklearn_version))"
   ]
  },
  {
   "cell_type": "code",
   "execution_count": null,
   "metadata": {},
   "outputs": [],
   "source": []
  },
  {
   "cell_type": "markdown",
   "metadata": {},
   "source": [
    "## C. Carregando dados  <a class=\"anchor\" id=\"introduction\"></a>"
   ]
  },
  {
   "cell_type": "code",
   "execution_count": null,
   "metadata": {},
   "outputs": [],
   "source": [
    "# Informa a URL de importação do dataset\n",
    "def read_dataset():\n",
    "\n",
    "    credits=pd.read_csv('https://raw.githubusercontent.com/andreaafs100766/Sprint-01/master/credits.csv')\n",
    "    print('\"credits.csv\" imported successfully!')\n",
    "\n",
    "    titles=pd.read_csv('https://raw.githubusercontent.com/andreaafs100766/Sprint-01/master/titles.csv')\n",
    "    print('\"titles.csv\" imported successfully!')\n",
    "\n",
    "    return credits, titles"
   ]
  }
 ],
 "metadata": {
  "kernelspec": {
   "display_name": "venv",
   "language": "python",
   "name": "venv"
  },
  "language_info": {
   "codemirror_mode": {
    "name": "ipython",
    "version": 3
   },
   "file_extension": ".py",
   "mimetype": "text/x-python",
   "name": "python",
   "nbconvert_exporter": "python",
   "pygments_lexer": "ipython3",
   "version": "3.7.6"
  }
 },
 "nbformat": 4,
 "nbformat_minor": 4
}
